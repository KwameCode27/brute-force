{
  "nbformat": 4,
  "nbformat_minor": 0,
  "metadata": {
    "colab": {
      "provenance": [],
      "authorship_tag": "ABX9TyO5B58QvHS9/dIyznhWI2ti",
      "include_colab_link": true
    },
    "kernelspec": {
      "name": "python3",
      "display_name": "Python 3"
    },
    "language_info": {
      "name": "python"
    }
  },
  "cells": [
    {
      "cell_type": "markdown",
      "metadata": {
        "id": "view-in-github",
        "colab_type": "text"
      },
      "source": [
        "<a href=\"https://colab.research.google.com/github/KwameCode27/brute-force-crack/blob/main/brute_force_password_crack.ipynb\" target=\"_parent\"><img src=\"https://colab.research.google.com/assets/colab-badge.svg\" alt=\"Open In Colab\"/></a>"
      ]
    },
    {
      "cell_type": "code",
      "execution_count": 2,
      "metadata": {
        "id": "3ZpgrTscRl-x"
      },
      "outputs": [],
      "source": [
        "import random\n",
        "import time\n",
        "import matplotlib.pyplot as plt"
      ]
    },
    {
      "cell_type": "code",
      "source": [
        "def test_brute_force(numberOfTest):\n",
        "  times = []\n",
        "  for i in range(numberOfTest):\n",
        "    target_pin = int(random.randint(1000, 9999))\n",
        "    start_time = time.time()\n",
        "    test_brute_force(target_pin)\n",
        "    end_time = time.time()\n",
        "    time.append(end_time - start_time)\n",
        "  return time"
      ],
      "metadata": {
        "id": "vO0uX5hVSRA_"
      },
      "execution_count": 8,
      "outputs": []
    },
    {
      "cell_type": "code",
      "source": [
        "# time_taken = test_brute_force(numberOfTest=500)\n",
        "\n",
        "# plt."
      ],
      "metadata": {
        "id": "0FSpC6VfT3Qh"
      },
      "execution_count": 10,
      "outputs": []
    }
  ]
}